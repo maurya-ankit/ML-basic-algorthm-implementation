{
 "cells": [
  {
   "source": [
    "# <center>#5 - II : Logic Gates using ANN</center>"
   ],
   "cell_type": "markdown",
   "metadata": {}
  },
  {
   "cell_type": "code",
   "execution_count": 1,
   "metadata": {},
   "outputs": [],
   "source": [
    "import numpy as np"
   ]
  },
  {
   "cell_type": "code",
   "execution_count": 2,
   "metadata": {},
   "outputs": [
    {
     "output_type": "stream",
     "name": "stdout",
     "text": [
      "(4, 2)\n"
     ]
    },
    {
     "output_type": "execute_result",
     "data": {
      "text/plain": [
       "array([[0, 0],\n",
       "       [0, 1],\n",
       "       [1, 0],\n",
       "       [1, 1]])"
      ]
     },
     "metadata": {},
     "execution_count": 2
    }
   ],
   "source": [
    "input_features = np.array([[0,0],[0,1],[1,0],[1,1]])\n",
    "print(input_features.shape)\n",
    "input_features"
   ]
  },
  {
   "cell_type": "code",
   "execution_count": 3,
   "metadata": {},
   "outputs": [
    {
     "output_type": "stream",
     "name": "stdout",
     "text": [
      "(4, 1)\n"
     ]
    },
    {
     "output_type": "execute_result",
     "data": {
      "text/plain": [
       "array([[1],\n",
       "       [0],\n",
       "       [0],\n",
       "       [0]])"
      ]
     },
     "metadata": {},
     "execution_count": 3
    }
   ],
   "source": [
    "target_output = np.array([[1,0,0,0]])\n",
    "target_output = target_output.reshape(4,1)\n",
    "print(target_output.shape)\n",
    "target_output"
   ]
  },
  {
   "cell_type": "code",
   "execution_count": 4,
   "metadata": {},
   "outputs": [
    {
     "output_type": "stream",
     "name": "stdout",
     "text": [
      "(2, 1)\n"
     ]
    },
    {
     "output_type": "execute_result",
     "data": {
      "text/plain": [
       "array([[0.1],\n",
       "       [0.2]])"
      ]
     },
     "metadata": {},
     "execution_count": 4
    }
   ],
   "source": [
    "weights = np.array([[0.1],[0.2]])\n",
    "print(weights.shape)\n",
    "weights"
   ]
  },
  {
   "cell_type": "code",
   "execution_count": 5,
   "metadata": {},
   "outputs": [],
   "source": [
    "bias = 0.3\n",
    "lr=0.05"
   ]
  },
  {
   "cell_type": "code",
   "execution_count": 8,
   "metadata": {
    "tags": []
   },
   "outputs": [],
   "source": [
    "for epoch in range(10000):\n",
    "    inputs = input_features\n",
    "    in_dot = np.dot(inputs,weights)+bias\n",
    "    out = sigmoid(in_dot)\n",
    "    error = out -target_output\n",
    "    # print(error.sum())\n",
    "    derror_dout = error\n",
    "    dout_din = sigmoid_der(out)\n",
    "    deriv = derror_dout*dout_din\n",
    "    inputs = input_features.T\n",
    "    deriv_final = np.dot(inputs,deriv)\n",
    "    weights -=lr*deriv_final\n",
    "\n",
    "    for i in deriv:\n",
    "        bias -= lr *i\n"
   ]
  },
  {
   "cell_type": "code",
   "execution_count": 9,
   "metadata": {},
   "outputs": [
    {
     "output_type": "stream",
     "name": "stdout",
     "text": [
      "[[-7.04686713]\n [-7.04651572]] [2.93774608]\n"
     ]
    }
   ],
   "source": [
    "print(weights,bias)"
   ]
  },
  {
   "cell_type": "code",
   "execution_count": 10,
   "metadata": {},
   "outputs": [
    {
     "output_type": "stream",
     "name": "stdout",
     "text": [
      "[0.01615687]\n[1.42942806e-05]\n[0.94968113]\n"
     ]
    }
   ],
   "source": [
    "single_point = np.array([1,0])\n",
    "result1 = np.dot(single_point, weights) + bias\n",
    "result2 = sigmoid(result1)\n",
    "print(result2)\n",
    "single_point = np.array([1,1])\n",
    "result1 = np.dot(single_point, weights) + bias\n",
    "result2 = sigmoid(result1)\n",
    "print(result2)\n",
    "single_point = np.array([0,0])\n",
    "result1 = np.dot(single_point, weights) + bias\n",
    "result2 = sigmoid(result1)\n",
    "print(result2)"
   ]
  },
  {
   "cell_type": "code",
   "execution_count": 6,
   "metadata": {},
   "outputs": [],
   "source": [
    "def sigmoid(x):\n",
    "    return 1/(1+np.exp(-x))"
   ]
  },
  {
   "cell_type": "code",
   "execution_count": 7,
   "metadata": {},
   "outputs": [],
   "source": [
    "def sigmoid_der(x):\n",
    "    return sigmoid(x)*(1-sigmoid(x))\n"
   ]
  },
  {
   "cell_type": "code",
   "execution_count": 11,
   "metadata": {},
   "outputs": [],
   "source": [
    "def func(input_features,target_output):\n",
    "    weights = np.array([[0.1],[0.2]])\n",
    "    bias = 0.3\n",
    "    lr=0.05\n",
    "    for epoch in range(10000):\n",
    "        inputs = input_features\n",
    "        in_dot = np.dot(inputs,weights)+bias\n",
    "        out = sigmoid(in_dot)\n",
    "        error = out -target_output\n",
    "        # print(error.sum())\n",
    "        derror_dout = error\n",
    "        dout_din = sigmoid_der(out)\n",
    "        deriv = derror_dout*dout_din\n",
    "        inputs = input_features.T\n",
    "        deriv_final = np.dot(inputs,deriv)\n",
    "        weights -=lr*deriv_final\n",
    "\n",
    "        for i in deriv:\n",
    "            bias -= lr *i\n",
    "    single_point = np.array([1,0])\n",
    "    result1 = np.dot(single_point, weights) + bias\n",
    "    result2 = sigmoid(result1)\n",
    "    print(f\"[1,0] {result2}\")\n",
    "    single_point = np.array([1,1])\n",
    "    result1 = np.dot(single_point, weights) + bias\n",
    "    result2 = sigmoid(result1)\n",
    "    print(f\"[1,1] {result2}\")\n",
    "    single_point = np.array([0,0])\n",
    "    result1 = np.dot(single_point, weights) + bias\n",
    "    result2 = sigmoid(result1)\n",
    "    print(f\"[0,0] {result2}\")  "
   ]
  },
  {
   "source": [
    "# OR"
   ],
   "cell_type": "markdown",
   "metadata": {}
  },
  {
   "cell_type": "code",
   "execution_count": 12,
   "metadata": {},
   "outputs": [
    {
     "output_type": "stream",
     "name": "stdout",
     "text": [
      "[1,0] [0.9793702]\n[1,1] [0.99998097]\n[0,0] [0.04112867]\n"
     ]
    }
   ],
   "source": [
    "input_features = np.array([[0,0],[0,1],[1,0],[1,1]])\n",
    "target_output = np.array([[0,1,1,1]])\n",
    "target_output = target_output.reshape(4,1)\n",
    "func(input_features,target_output)"
   ]
  },
  {
   "source": [
    "# And"
   ],
   "cell_type": "markdown",
   "metadata": {}
  },
  {
   "cell_type": "code",
   "execution_count": 13,
   "metadata": {},
   "outputs": [
    {
     "output_type": "stream",
     "name": "stdout",
     "text": [
      "[1,0] [0.03914052]\n[1,1] [0.93236812]\n[0,0] [0.00012035]\n"
     ]
    }
   ],
   "source": [
    "input_features = np.array([[0,0],[0,1],[1,0],[1,1]])\n",
    "target_output = np.array([[0,0,0,1]])\n",
    "target_output = target_output.reshape(4,1)\n",
    "func(input_features,target_output)"
   ]
  },
  {
   "source": [
    "# NOR"
   ],
   "cell_type": "markdown",
   "metadata": {}
  },
  {
   "cell_type": "code",
   "execution_count": 14,
   "metadata": {},
   "outputs": [
    {
     "output_type": "stream",
     "name": "stdout",
     "text": [
      "[1,0] [0.01615687]\n[1,1] [1.42942806e-05]\n[0,0] [0.94968113]\n"
     ]
    }
   ],
   "source": [
    "input_features = np.array([[0,0],[0,1],[1,0],[1,1]])\n",
    "target_output = np.array([[1,0,0,0]])\n",
    "target_output = target_output.reshape(4,1)\n",
    "func(input_features,target_output)"
   ]
  },
  {
   "source": [
    "# NAND"
   ],
   "cell_type": "markdown",
   "metadata": {}
  },
  {
   "cell_type": "code",
   "execution_count": 15,
   "metadata": {},
   "outputs": [
    {
     "output_type": "stream",
     "name": "stdout",
     "text": [
      "[1,0] [0.95137821]\n[1,1] [0.05486444]\n[0,0] [0.9998484]\n"
     ]
    }
   ],
   "source": [
    "input_features = np.array([[0,0],[0,1],[1,0],[1,1]])\n",
    "target_output = np.array([[1,1,1,0]])\n",
    "target_output = target_output.reshape(4,1)\n",
    "func(input_features,target_output)"
   ]
  },
  {
   "cell_type": "code",
   "execution_count": null,
   "metadata": {},
   "outputs": [],
   "source": []
  },
  {
   "cell_type": "code",
   "execution_count": null,
   "metadata": {},
   "outputs": [],
   "source": []
  }
 ],
 "metadata": {
  "kernelspec": {
   "display_name": "Python 3",
   "language": "python",
   "name": "python3"
  },
  "language_info": {
   "codemirror_mode": {
    "name": "ipython",
    "version": 3
   },
   "file_extension": ".py",
   "mimetype": "text/x-python",
   "name": "python",
   "nbconvert_exporter": "python",
   "pygments_lexer": "ipython3",
   "version": "3.8.6-final"
  }
 },
 "nbformat": 4,
 "nbformat_minor": 5
}