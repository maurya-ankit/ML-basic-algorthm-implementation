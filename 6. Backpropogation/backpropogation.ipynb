{
 "metadata": {
  "language_info": {
   "codemirror_mode": {
    "name": "ipython",
    "version": 3
   },
   "file_extension": ".py",
   "mimetype": "text/x-python",
   "name": "python",
   "nbconvert_exporter": "python",
   "pygments_lexer": "ipython3",
   "version": "3.8.6-final"
  },
  "orig_nbformat": 2,
  "kernelspec": {
   "name": "python3",
   "display_name": "Python 3.8.6 64-bit ('venv')",
   "metadata": {
    "interpreter": {
     "hash": "cd83717efa25fe49b551306f39e8d5a92002750e8c82b934b9a17b502786d553"
    }
   }
  }
 },
 "nbformat": 4,
 "nbformat_minor": 2,
 "cells": [
  {
   "source": [
    "# <center>#6 Implementation of Backpropogation</center>"
   ],
   "cell_type": "markdown",
   "metadata": {}
  },
  {
   "source": [
    "# Steps in Neural Network<hr>\n",
    "- <kbd>Take inputs</kbd><hr>\n",
    "- <kbd>Add bias (if required)</kbd><hr>\n",
    "- <kbd>Assign random weights to input features</kbd><hr>\n",
    "- <kbd>Run the code for training.</kbd><hr>\n",
    "- <kbd>Find the error in prediction.</kbd><hr>\n",
    "- <kbd>Update the weight by gradient descent algorithm.</kbd><hr>\n",
    "- <kbd>Repeat the training phase with updated weights.</kbd><hr>\n",
    "- <kbd>Make predictions</kbd><hr>"
   ],
   "cell_type": "markdown",
   "metadata": {}
  },
  {
   "cell_type": "code",
   "execution_count": 77,
   "metadata": {},
   "outputs": [],
   "source": [
    "import numpy as np"
   ]
  },
  {
   "cell_type": "code",
   "execution_count": 78,
   "metadata": {},
   "outputs": [],
   "source": [
    "X = np.array(([2, 9], [1, 5], [3, 6]), dtype=float)\n",
    "y = np.array(([92], [86], [89]), dtype=float)"
   ]
  },
  {
   "cell_type": "code",
   "execution_count": 79,
   "metadata": {},
   "outputs": [],
   "source": [
    "X = X/np.amax(X, axis=0)\n",
    "# y = y/np.max(y)\n",
    "y = y/100\n"
   ]
  },
  {
   "cell_type": "code",
   "execution_count": 80,
   "metadata": {},
   "outputs": [
    {
     "output_type": "stream",
     "name": "stdout",
     "text": [
      "Loss: 0.006752536550129866\nLoss: 0.00028940648024336713\nLoss: 0.0002824207568972764\nLoss: 0.0002761109035592611\nLoss: 0.0002701799145635453\nLoss: 0.00026459608160797263\nLoss: 0.0002593309780060123\nLoss: 0.0002543590421856434\nLoss: 0.00024965724417248423\nLoss: 0.0002452047948340008\nActual Output: [[0.92]\n [0.86]\n [0.89]]\nLoss: 0.00024098289222204886\nPredicted Output: [[0.89793876]\n [0.87090864]\n [0.9008283 ]]\n"
     ]
    }
   ],
   "source": [
    "\n",
    "class NeuralNetwork(object):\n",
    "    def __init__(self):\n",
    "        #parameters\n",
    "        self.inputSize = 2\n",
    "        self.outputSize = 1\n",
    "        self.hiddenSize = 3\n",
    "        \n",
    "        #weights\n",
    "        self.W1 = np.random.randn(self.inputSize, self.hiddenSize)\n",
    "        self.W2 = np.random.randn(self.hiddenSize, self.outputSize)\n",
    "        \n",
    "    def feedForward(self, X):\n",
    "        self.z = np.dot(X, self.W1)\n",
    "        self.z2 = self.sigmoid(self.z)\n",
    "        self.z3 = np.dot(self.z2, self.W2)\n",
    "        output = self.sigmoid(self.z3)\n",
    "        return output\n",
    "        \n",
    "    def sigmoid(self, s, deriv=False):\n",
    "        if (deriv == True):\n",
    "            return s * (1 - s)\n",
    "        return 1/(1 + np.exp(-s))\n",
    "    \n",
    "    def backward(self, X, y, output):\n",
    "        self.output_error = y - output\n",
    "        self.output_delta = self.output_error * self.sigmoid(output, deriv=True)\n",
    "        \n",
    "        self.z2_error = self.output_delta.dot(self.W2.T)\n",
    "        self.z2_delta = self.z2_error * self.sigmoid(self.z2, deriv=True)\n",
    "        \n",
    "        self.W1 += X.T.dot(self.z2_delta)\n",
    "        self.W2 += self.z2.T.dot(self.output_delta)\n",
    "        \n",
    "    def train(self, X, y):\n",
    "        output = self.feedForward(X)\n",
    "        self.backward(X, y, output)\n",
    "        \n",
    "NN = NeuralNetwork()\n",
    "\n",
    "for i in range(1000):\n",
    "    if (i % 100 == 0):\n",
    "        print(\"Loss: \" + str(np.mean(np.square(y - NN.feedForward(X)))))\n",
    "    NN.train(X, y)\n",
    "        \n",
    "print(\"Actual Output: \" + str(y))\n",
    "print(\"Loss: \" + str(np.mean(np.square(y - NN.feedForward(X)))))\n",
    "print(\"Predicted Output: \" + str(NN.feedForward(X)))"
   ]
  },
  {
   "cell_type": "code",
   "execution_count": null,
   "metadata": {},
   "outputs": [],
   "source": []
  }
 ]
}