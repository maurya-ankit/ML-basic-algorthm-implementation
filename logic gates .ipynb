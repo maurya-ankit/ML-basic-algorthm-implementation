{
 "cells": [
  {
   "cell_type": "markdown",
   "metadata": {},
   "source": [
    "# OR gate"
   ]
  },
  {
   "cell_type": "code",
   "execution_count": 1,
   "metadata": {},
   "outputs": [],
   "source": [
    "x1=[0,0,1,1]\n",
    "x2=[0,1,0,1]"
   ]
  },
  {
   "cell_type": "code",
   "execution_count": 2,
   "metadata": {},
   "outputs": [],
   "source": [
    "w1=[1,1,1,1]\n",
    "w2=[1,1,1,1]"
   ]
  },
  {
   "cell_type": "code",
   "execution_count": 3,
   "metadata": {},
   "outputs": [],
   "source": [
    "bias=1"
   ]
  },
  {
   "cell_type": "code",
   "execution_count": 19,
   "metadata": {},
   "outputs": [
    {
     "name": "stdout",
     "output_type": "stream",
     "text": [
      "x1  x2  w1  w2 output\n",
      "0   0   1   1     0\n",
      "0   1   1   1     1\n",
      "1   0   1   1     1\n",
      "1   1   1   1     1\n"
     ]
    }
   ],
   "source": [
    "print(\"x1  x2  w1  w2 output\")\n",
    "for i in range(len(x1)):\n",
    "    if(x1[i]*w1[i]+x2[i]*w2[i]-bias>=0):\n",
    "        print(x1[i],\" \",x2[i],\" \",w1[i],\" \",w2[i],\"   \",1)\n",
    "    else:\n",
    "        print(x1[i],\" \",x2[i],\" \",w1[i],\" \",w2[i],\"   \",0)"
   ]
  },
  {
   "cell_type": "markdown",
   "metadata": {},
   "source": [
    "# NOT gate"
   ]
  },
  {
   "cell_type": "code",
   "execution_count": 20,
   "metadata": {},
   "outputs": [],
   "source": [
    "x3=[0,1]\n",
    "w3=1"
   ]
  },
  {
   "cell_type": "code",
   "execution_count": 21,
   "metadata": {},
   "outputs": [],
   "source": [
    "bias2=1"
   ]
  },
  {
   "cell_type": "code",
   "execution_count": 47,
   "metadata": {},
   "outputs": [
    {
     "name": "stdout",
     "output_type": "stream",
     "text": [
      "input weight output\n",
      "  0     1     1\n",
      "  1     1     0\n"
     ]
    }
   ],
   "source": [
    "print(\"input weight output\")\n",
    "for i in range(len(x3)):\n",
    "    x=x3[i]*w3[0]\n",
    "    if(1-x>0):\n",
    "        print(\" \",x3[i],\"   \",w3[0],\"   \",1)\n",
    "    else:\n",
    "        print(\" \",x3[i],\"   \",w3[0],\"   \",0)"
   ]
  },
  {
   "cell_type": "markdown",
   "metadata": {},
   "source": [
    "# AND gate"
   ]
  },
  {
   "cell_type": "code",
   "execution_count": 44,
   "metadata": {},
   "outputs": [],
   "source": [
    "x4=[0,0,1,1]\n",
    "x5=[0,1,0,1]"
   ]
  },
  {
   "cell_type": "code",
   "execution_count": 45,
   "metadata": {},
   "outputs": [],
   "source": [
    "w4=[1,1,1,1]\n",
    "w5=[1,1,1,1]"
   ]
  },
  {
   "cell_type": "code",
   "execution_count": 49,
   "metadata": {},
   "outputs": [],
   "source": [
    "bias3=2"
   ]
  },
  {
   "cell_type": "code",
   "execution_count": 50,
   "metadata": {},
   "outputs": [
    {
     "name": "stdout",
     "output_type": "stream",
     "text": [
      "x1  x2  w1  w2 output\n",
      "0   0   1   1     0\n",
      "0   1   1   1     0\n",
      "1   0   1   1     0\n",
      "1   1   1   1     1\n"
     ]
    }
   ],
   "source": [
    "print(\"x1  x2  w1  w2 output\")\n",
    "for i in range(len(x1)):\n",
    "    if(x1[i]*w1[i]+x2[i]*w2[i]-bias3>=0):\n",
    "        print(x1[i],\" \",x2[i],\" \",w1[i],\" \",w2[i],\"   \",1)\n",
    "    else:\n",
    "        print(x1[i],\" \",x2[i],\" \",w1[i],\" \",w2[i],\"   \",0)"
   ]
  },
  {
   "cell_type": "markdown",
   "metadata": {},
   "source": [
    "# XOR gate"
   ]
  },
  {
   "cell_type": "code",
   "execution_count": 54,
   "metadata": {},
   "outputs": [],
   "source": [
    "x1 = [0, 0, 1, 1]\n",
    "x2 = [0, 1, 0, 1]"
   ]
  },
  {
   "cell_type": "code",
   "execution_count": null,
   "metadata": {},
   "outputs": [],
   "source": []
  },
  {
   "cell_type": "code",
   "execution_count": 56,
   "metadata": {},
   "outputs": [],
   "source": [
    "def XOR (a, b):\n",
    "    if a != b:\n",
    "        return 1\n",
    "    else:\n",
    "        return 0"
   ]
  },
  {
   "cell_type": "code",
   "execution_count": 64,
   "metadata": {},
   "outputs": [
    {
     "name": "stdout",
     "output_type": "stream",
     "text": [
      "x1    x2     Output\n",
      "0     0       0\n",
      "0     1       1\n",
      "1     0       1\n",
      "1     1       0\n"
     ]
    }
   ],
   "source": [
    "print('x1    x2     Output')\n",
    "for i in range(len(x1)):\n",
    "    print(x1[i],'   ',x2[i],'   ',\" \",XOR(x1[i],x2[i]))"
   ]
  },
  {
   "cell_type": "markdown",
   "metadata": {},
   "source": [
    "# NAND gate"
   ]
  },
  {
   "cell_type": "code",
   "execution_count": 66,
   "metadata": {},
   "outputs": [
    {
     "name": "stdout",
     "output_type": "stream",
     "text": [
      "x1    x2    w1     w2    Output\n",
      "0     0     -1     -1     1\n",
      "0     1     -1     -1     1\n",
      "1     0     -1     -1     1\n",
      "1     1     -1     -1     0\n"
     ]
    }
   ],
   "source": [
    "x1 = [0, 0, 1, 1]\n",
    "x2 = [0, 1, 0, 1]"
   ]
  },
  {
   "cell_type": "code",
   "execution_count": 67,
   "metadata": {},
   "outputs": [],
   "source": [
    "w1 = [-1, -1, -1, -1]\n",
    "w2 = [-1, -1, -1, -1]"
   ]
  },
  {
   "cell_type": "code",
   "execution_count": 68,
   "metadata": {},
   "outputs": [],
   "source": [
    "bias = -2"
   ]
  },
  {
   "cell_type": "code",
   "execution_count": 69,
   "metadata": {},
   "outputs": [
    {
     "name": "stdout",
     "output_type": "stream",
     "text": [
      "x1    x2    w1     w2    Output\n",
      "0     0     -1     -1     1\n",
      "0     1     -1     -1     1\n",
      "1     0     -1     -1     1\n",
      "1     1     -1     -1     0\n"
     ]
    }
   ],
   "source": [
    "print(\"x1    x2    w1     w2    Output\")\n",
    "for i in range(len(x1)):\n",
    "    if ( x1[i]*w1[i] + x2[i]*w2[i] ) > bias:\n",
    "        print(x1[i],'   ',x2[i],'   ',w1[i],'   ',w2[i],'   ', 1)\n",
    "    else:\n",
    "        print(x1[i],'   ',x2[i],'   ',w1[i],'   ',w2[i],'   ', 0)"
   ]
  },
  {
   "cell_type": "code",
   "execution_count": null,
   "metadata": {},
   "outputs": [],
   "source": []
  }
 ],
 "metadata": {
  "kernelspec": {
   "display_name": "Python 3",
   "language": "python",
   "name": "python3"
  },
  "language_info": {
   "codemirror_mode": {
    "name": "ipython",
    "version": 3
   },
   "file_extension": ".py",
   "mimetype": "text/x-python",
   "name": "python",
   "nbconvert_exporter": "python",
   "pygments_lexer": "ipython3",
   "version": "3.7.3"
  }
 },
 "nbformat": 4,
 "nbformat_minor": 2
}
